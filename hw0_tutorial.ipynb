{
 "cells": [
  {
   "cell_type": "markdown",
   "metadata": {
    "cell_id": "3828e36c66cb4d5dafeb30091b7dab9c",
    "deepnote_cell_type": "markdown"
   },
   "source": [
    "# Tutorial: Simple Fishing Game\n",
    "\n",
    "To get you started, I defined a super-simple fishing game, based on the first three locations\n",
    "in __Action Castle__, which is a text adventure game in a fun book by Jared A. Sorensen called\n",
    "[Parsley](http://www.memento-mori.com/parsely-products/parsely-pdf).\n",
    "\n",
    "\n",
    "<img src=\"tutorial-map.png\" width=\"500\"/>\n",
    "\n",
    "\n",
    "\n",
    "The goal of this game is simple: help your character find some food to eat because they are hungry!"
   ]
  },
  {
   "cell_type": "markdown",
   "metadata": {
    "cell_id": "1e91b98e6c76450dbd47cc339bd9f359",
    "deepnote_cell_type": "markdown"
   },
   "source": [
    "## The Text Adventures Library\n",
    "\n",
    "We will be using a framework designed for this class called _Text Adventures_, which is included in this repo.\n",
    "\n",
    "### High-Level\n",
    "\n",
    "The main concepts we are concerned with when building a game with Text Adventures are:\n",
    "\n",
    "* Things: _locations, items, and characters_\n",
    "* Actions: things a character can do\n",
    "* Blocks: things that prevent a character from going somewhere\n",
    "* Commands: how a user interacts with the game\n",
    "\n",
    "### Things\n",
    "\n",
    "_Things_ can have _properties_. A property is some detail about the thing that influences how other things can interact with it. A poisonous potion might have the property `is_poisonous` set, or a locked door might have `is_locked` set. Properties are designed to be flexible and easily extensible without significant code changes.\n",
    "\n",
    "_Things_ can also have commands associated with them. A rosebush might have a command that lets characters pick a rose from the bush, and that rose might have a command for smelling it.\n",
    "\n",
    "All _things_ are stored in `text_adventures.things`.\n",
    "\n",
    "### Actions\n",
    "\n",
    "An action is something a user does to change the game's state, such as changing location, eating food, or attacking something.\n",
    "\n",
    "When a user enters a command, the game will parse the command to determine its intent and route it to the appropriate action. This means a user can type _go west_ and the game will work out that this means `text_adventures.actions.Go` and it will determine if the character can move west based on where the character is.\n",
    "\n",
    "The game's state might change each time an action is executed, so action instances are created for each command and the game's state is re-evaluated to determine if the action will be successful or fail.\n",
    "\n",
    "### Blocks\n",
    "\n",
    "Blocks are useful for implementing things like a locked door or if some direction is guarded by a monster.\n",
    "\n",
    "If a user attempts to enter a location that is blocked from where they are, the command will fail with some information about why. It's up to the game designer as to whether or not a block can be removed."
   ]
  },
  {
   "cell_type": "markdown",
   "metadata": {
    "cell_id": "0d056002dbbe4f66b3dc4701739cd7e4",
    "deepnote_cell_type": "text-cell-h3",
    "formattedRanges": []
   },
   "source": [
    "### Install required libraries"
   ]
  },
  {
   "cell_type": "code",
   "execution_count": 10,
   "metadata": {
    "cell_id": "5143b0bda2024676b889abb08633dbb1",
    "deepnote_cell_type": "code",
    "execution_context_id": "23b03909-f712-45f3-a602-e91fab9d1fd2",
    "execution_millis": 2869,
    "execution_start": 1756843027419,
    "source_hash": "7958d4a9"
   },
   "outputs": [
    {
     "name": "stdout",
     "output_type": "stream",
     "text": [
      "Collecting graphviz\n",
      "  Downloading graphviz-0.21-py3-none-any.whl (47 kB)\n",
      "\u001b[2K     \u001b[90m━━━━━━━━━━━━━━━━━━━━━━━━━━━━━━━━━━━━━━━━\u001b[0m \u001b[32m47.3/47.3 kB\u001b[0m \u001b[31m8.5 MB/s\u001b[0m eta \u001b[36m0:00:00\u001b[0m\n",
      "\u001b[?25hInstalling collected packages: graphviz\n",
      "Successfully installed graphviz-0.21\n",
      "\n",
      "\u001b[1m[\u001b[0m\u001b[34;49mnotice\u001b[0m\u001b[1;39;49m]\u001b[0m\u001b[39;49m A new release of pip is available: \u001b[0m\u001b[31;49m23.0.1\u001b[0m\u001b[39;49m -> \u001b[0m\u001b[32;49m25.2\u001b[0m\n",
      "\u001b[1m[\u001b[0m\u001b[34;49mnotice\u001b[0m\u001b[1;39;49m]\u001b[0m\u001b[39;49m To update, run: \u001b[0m\u001b[32;49mpip install --upgrade pip\u001b[0m\n"
     ]
    }
   ],
   "source": [
    "!pip install -r requirements.txt"
   ]
  },
  {
   "cell_type": "markdown",
   "metadata": {
    "cell_id": "2f11cf9846944441b92a8d660a4011cf",
    "deepnote_cell_type": "markdown"
   },
   "source": [
    "### Import Text Adventures"
   ]
  },
  {
   "cell_type": "code",
   "execution_count": 13,
   "metadata": {
    "cell_id": "f41d55050df641a2953803bbe48604b9",
    "deepnote_cell_type": "code",
    "execution_context_id": "23b03909-f712-45f3-a602-e91fab9d1fd2",
    "execution_millis": 207,
    "execution_start": 1756843033234,
    "source_hash": "fa5fedf1"
   },
   "outputs": [],
   "source": [
    "from text_adventure_games import (\n",
    "    games, parsing, actions, things, blocks, viz\n",
    ")"
   ]
  },
  {
   "cell_type": "markdown",
   "metadata": {
    "cell_id": "53ac7d0c1fdd447b943d83b236051073",
    "deepnote_cell_type": "markdown"
   },
   "source": [
    "## Locations\n",
    "\n",
    "A location is a place that characters can go to. Locations can be connected to other locations, creating a graph of places to visit, eg. the game map."
   ]
  },
  {
   "cell_type": "markdown",
   "metadata": {
    "cell_id": "a14eda519e9246609d1bbc3354c4dcab",
    "deepnote_cell_type": "markdown"
   },
   "source": [
    "The 3 locations from **Action Castle** are:\n",
    "\n",
    "* a cottage, your home\n",
    "* a garden path\n",
    "* a pond where you can fish to the south"
   ]
  },
  {
   "cell_type": "code",
   "execution_count": 16,
   "metadata": {
    "cell_id": "a21db1a3614b4b49828a1f74a6afd5be",
    "deepnote_cell_type": "code",
    "execution_context_id": "23b03909-f712-45f3-a602-e91fab9d1fd2",
    "execution_millis": 1,
    "execution_start": 1756843037477,
    "source_hash": "2bc7049d"
   },
   "outputs": [],
   "source": [
    "cottage = things.Location(\n",
    "    \"Cottage\",\n",
    "    \"You are standing in a small cottage.\"\n",
    ")\n",
    "\n",
    "garden_path = things.Location(\n",
    "    \"Garden Path\",\n",
    "    \"You are standing on a lush garden path. There is a cottage here.\",\n",
    ")\n",
    "\n",
    "fishing_pond = things.Location(\n",
    "    \"Fishing Pond\",\n",
    "    \"You are at the edge of a small fishing pond.\"\n",
    ")\n"
   ]
  },
  {
   "cell_type": "markdown",
   "metadata": {
    "cell_id": "5ac8216d1cf4467b8bd70d1ee3fdc069",
    "deepnote_cell_type": "markdown"
   },
   "source": [
    "We'll also add a 4th location, a cliff. If the player visits the cliff, they will fall off and that will end the game, so be careful!\n",
    "\n",
    "**Note**: the `game_over` property is set on the cliff."
   ]
  },
  {
   "cell_type": "code",
   "execution_count": 19,
   "metadata": {
    "cell_id": "e19986077ee74491b08701e7e133e84e",
    "deepnote_cell_type": "code",
    "execution_context_id": "23b03909-f712-45f3-a602-e91fab9d1fd2",
    "execution_millis": 3,
    "execution_start": 1756843040114,
    "source_hash": "cceba6fe"
   },
   "outputs": [],
   "source": [
    "cliff = things.Location(\n",
    "    \"Cliff\",\n",
    "    \"There is a steep cliff here. You fall off the cliff and lose the game. THE END\",\n",
    ")\n",
    "cliff.set_property(\"game_over\", True)  # RIP 🪦☠️\n"
   ]
  },
  {
   "cell_type": "markdown",
   "metadata": {
    "cell_id": "790c839b8a8c4d7da5f911559e661bec",
    "deepnote_cell_type": "markdown"
   },
   "source": [
    "### Connecting Locations"
   ]
  },
  {
   "cell_type": "markdown",
   "metadata": {
    "cell_id": "283ff6eda8f740a2a61162ccc190adba",
    "deepnote_cell_type": "markdown"
   },
   "source": [
    "From the cottage you can go _out_ to the garden path, and from there you can go _west_ to a cliff or _south_ to a fishing pond.\n"
   ]
  },
  {
   "cell_type": "code",
   "execution_count": null,
   "metadata": {
    "cell_id": "40250728c2824452b3b1483171231b59",
    "deepnote_cell_type": "code"
   },
   "outputs": [],
   "source": [
    "# Cottage -> Garden Path\n",
    "cottage.add_connection(\"out\", garden_path)\n",
    "\n",
    "# Garden Path -> Fishing Pond\n",
    "garden_path.add_connection(\"south\", fishing_pond)\n",
    "\n",
    "# Garden Path -> Cliff\n",
    "garden_path.add_connection(\"east\", cliff)\n"
   ]
  },
  {
   "cell_type": "markdown",
   "metadata": {
    "cell_id": "9665500cb40441eeaa5de85ea152ca0a",
    "deepnote_cell_type": "markdown"
   },
   "source": [
    "**NOTE**: Being able to go _out_ implies that you can also go _in_ from the other direction. The Text Adventures framework will account for that automatically when you use one of the following pairs:\n",
    "\n",
    "* north/south\n",
    "* east/west\n",
    "* up/down\n",
    "* in/out\n",
    "* inside/outside"
   ]
  },
  {
   "cell_type": "markdown",
   "metadata": {
    "cell_id": "02fdd444e16a4d24a9b133e66a513780",
    "deepnote_cell_type": "markdown"
   },
   "source": [
    "## Items\n",
    "\n",
    "Items can be placed at locations or they can be placed in a character's inventory. Any details about the item that may be interesting should be added as properties."
   ]
  },
  {
   "cell_type": "markdown",
   "metadata": {
    "cell_id": "1f086ed156e54ecc9fc23fe68a6ca425",
    "deepnote_cell_type": "markdown"
   },
   "source": [
    "### Gettable Items\n",
    "\n",
    "A _gettable_ item is an item that a character can put in their inventory using the _get_ command."
   ]
  },
  {
   "cell_type": "code",
   "execution_count": null,
   "metadata": {
    "cell_id": "1c7fa654ed6b442caa444497d16879f5",
    "deepnote_cell_type": "code"
   },
   "outputs": [],
   "source": [
    "# Put a fishing pole in the cottage\n",
    "fishing_pole = things.Item(\n",
    "    \"pole\",\n",
    "    \"a fishing pole\",\n",
    "    \"A SIMPLE FISHING POLE.\",\n",
    ")\n",
    "cottage.add_item(fishing_pole)\n",
    "\n",
    "\n",
    "# Put a deadly potion in the cottage\n",
    "potion = things.Item(\n",
    "    \"potion\",\n",
    "    \"a poisonous potion\",\n",
    "    \"IT'S BRIGHT GREEN AND STEAMING.\",\n",
    ")\n",
    "potion.set_property(\"is_drink\", True)\n",
    "potion.set_property(\"is_poisonous\", True)\n",
    "potion.add_command_hint(\"drink potion\")\n",
    "cottage.add_item(potion)"
   ]
  },
  {
   "cell_type": "markdown",
   "metadata": {
    "cell_id": "d44cffc1122f470d86134e81c880f6b5",
    "deepnote_cell_type": "markdown"
   },
   "source": [
    "### Non-gettable Items\n",
    "\n",
    "Non-gettable items are things that exist at locations but can't be picked up, like a pond. Notice that the `gettable` property is set to False."
   ]
  },
  {
   "cell_type": "code",
   "execution_count": null,
   "metadata": {
    "cell_id": "9295ca952f374a6c9e5502eaf40867f4",
    "deepnote_cell_type": "code"
   },
   "outputs": [],
   "source": [
    "# Put an actual pond at the fishing pond location\n",
    "pond = things.Item(\n",
    "    \"pond\",\n",
    "    \"a small fishing pond\",\n",
    "    \"THERE ARE FISH IN THE POND.\",\n",
    ")\n",
    "pond.set_property(\"gettable\", False)\n",
    "pond.set_property(\"has_fish\", True)\n",
    "pond.add_command_hint(\"catch fish\")\n",
    "pond.add_command_hint(\"catch fish with pole\")\n",
    "fishing_pond.add_item(pond)\n",
    "\n",
    "\n",
    "# Put a rosebush in the garden\n",
    "rosebush = things.Item(\n",
    "    \"rosebush\",\n",
    "    \"a rosebush\",\n",
    "    \"THE ROSEBUSH CONTAINS A SINGLE RED ROSE.  IT IS BEAUTIFUL.\",\n",
    ")\n",
    "rosebush.set_property(\"gettable\", False)\n",
    "rosebush.set_property(\"has_rose\", True)\n",
    "rosebush.add_command_hint(\"pick rose\")\n",
    "garden_path.add_item(rosebush)\n"
   ]
  },
  {
   "cell_type": "markdown",
   "metadata": {
    "cell_id": "28760d4068324af7b6fd640ddae2e6e3",
    "deepnote_cell_type": "markdown"
   },
   "source": [
    "## Characters\n",
    "\n",
    "A character is some living thing that can perform actions, such as your player, or maybe a mean troll, or perhaps a princess. They can have properties applied to them too, which we'll see when the game sets `is_hungry` on our player below.\n",
    "\n",
    "In later homeworks we will develop characters more fully so that you can interact with them and they have their own goals and pursue their own interests in the game."
   ]
  },
  {
   "cell_type": "code",
   "execution_count": null,
   "metadata": {
    "cell_id": "474b55a42a954eda8ea3509abe4b907e",
    "deepnote_cell_type": "code"
   },
   "outputs": [],
   "source": [
    "player = things.Character(\n",
    "    name=\"The player\",\n",
    "    description=\"You are a simple peasant destined for greatness.\",\n",
    "    persona=\"I am on an adventure.\",\n",
    ")\n"
   ]
  },
  {
   "cell_type": "markdown",
   "metadata": {
    "cell_id": "cb69618237e041e5afc10a3217b03d78",
    "deepnote_cell_type": "markdown"
   },
   "source": [
    "## The Game\n",
    "\n",
    "The game class, defined in `text_adventures.games`:\n",
    "\n",
    "- list of characters, one designated as player\n",
    "- all locations in the game\n",
    "- special function to determine if game has been won\n",
    "- functions for saving and loading game states, which we'll see later.\n",
    "- a game loop that runs the game, interacting with the user via commands\n",
    "\n",
    "To create our fishing game, we will subclass `Game` and define the `is_won` function to check when the game is won. In this case, the player starts out hungry, shown by calling `set_property` on the player."
   ]
  },
  {
   "cell_type": "code",
   "execution_count": null,
   "metadata": {
    "cell_id": "948965920c3d4d61b41d9ea53c69300f",
    "deepnote_cell_type": "code"
   },
   "outputs": [],
   "source": [
    "\n",
    "class FishingGame(games.Game):\n",
    "    def __init__(\n",
    "        self, start_at: things.Location, player: things.Character, characters=None,\n",
    "        custom_actions=None\n",
    "    ):\n",
    "        super().__init__(start_at, player, characters=characters, custom_actions=custom_actions)\n",
    "        self.player.set_property(\"is_hungry\", True)\n",
    "\n",
    "    def is_won(self) -> bool:\n",
    "        \"\"\" \n",
    "        Checks whether the player has won the game.  \n",
    "        For the fishing mini game, this means that the player is no longer hungry.\n",
    "        \"\"\"\n",
    "        if not self.player.get_property(\"is_hungry\"):\n",
    "            self.parser.ok(\"You are no longer hungry. You win!\")\n",
    "            return True\n",
    "        else:\n",
    "            return False"
   ]
  },
  {
   "cell_type": "markdown",
   "metadata": {
    "cell_id": "8cfd11fb48ca45eeb60ebf0beeb054cc",
    "deepnote_cell_type": "markdown"
   },
   "source": [
    "## Commands\n",
    "\n",
    "In text adventure games the user types in simple natural language commands to interact with the game environment. That text is parsed for meaning and actions may or may not take place as a result.\n",
    "\n",
    "One of the challenges for the parser is mapping the language to corresponding components of the game. Classic text adventure games use simple two word commands, eg. _go east_ or _get pole_.\n",
    "\n",
    "In the next section, you will see five commands that will guide you through our game."
   ]
  },
  {
   "cell_type": "markdown",
   "metadata": {
    "cell_id": "60f0e9e3f7b9441ba51ff9a8125d8b26",
    "deepnote_cell_type": "markdown"
   },
   "source": [
    "## Let's Play!\n",
    "\n",
    "*Behold, as a magestic prompt appears!*\n",
    "\n",
    "You can play through the whole game with the following commands:\n",
    "\n",
    "1. take pole\n",
    "2. go out\n",
    "3. south\n",
    "4. catch fish with pole\n",
    "5. eat fish"
   ]
  },
  {
   "cell_type": "code",
   "execution_count": null,
   "metadata": {
    "cell_id": "38f6a56c78bd4ba28886e0d8f736eb1e",
    "deepnote_cell_type": "code"
   },
   "outputs": [],
   "source": [
    "game = FishingGame(cottage, player)\n",
    "\n",
    "game.game_loop()"
   ]
  },
  {
   "cell_type": "markdown",
   "metadata": {
    "cell_id": "e7cfb06113c2431c82776e5af8f6e10d",
    "deepnote_cell_type": "markdown"
   },
   "source": [
    "### Visualize Game\n",
    "\n",
    "One way of conceptualizing our games is as a directed graph, where nodes are locations connected via directed arcs.  We can vizualize our game as a directed graph."
   ]
  },
  {
   "cell_type": "code",
   "execution_count": null,
   "metadata": {
    "cell_id": "bd81cf1145cf46c8a0bd21e133c14af5",
    "deepnote_cell_type": "code"
   },
   "outputs": [],
   "source": [
    "from text_adventure_games.viz import Visualizer\n",
    "viz = Visualizer(game)\n",
    "graph = viz.visualize()\n",
    "graph"
   ]
  },
  {
   "cell_type": "markdown",
   "metadata": {
    "cell_id": "cc05b143727149ae8d48f3de24851490",
    "deepnote_cell_type": "markdown"
   },
   "source": [
    "## Action\n",
    "\n",
    "You can define your own custom actions for the game. Actions consist of two of three parts:\n",
    "\n",
    "* the intitialization, which parses the arguments\n",
    "* the preconditions, which determine if the action can be applied\n",
    "* the effect, which change the state of the game when the action is successfully applied"
   ]
  },
  {
   "cell_type": "code",
   "execution_count": null,
   "metadata": {
    "cell_id": "025d599690fc42398e603bda6a93b726",
    "deepnote_cell_type": "code"
   },
   "outputs": [],
   "source": [
    "class Cook(actions.Action):\n",
    "    ACTION_NAME = 'cook'\n",
    "    ACTION_DESCRIPTION = 'Cook some food'\n",
    "\n",
    "    def __init__(self, game, command):\n",
    "        super().__init__(game)\n",
    "        self.command = command\n",
    "        self.character = self.parser.get_character(command)\n",
    "        self.food = self.parser.match_item(\n",
    "            command, self.parser.get_items_in_scope(self.character)\n",
    "        )\n",
    "\n",
    "    def check_preconditions(self) -> bool:\n",
    "        if not self.food:\n",
    "            self.parser.fail(\"No food found\")\n",
    "        if not self.food.get_property(\"is_food\"):\n",
    "            self.parser.fail(f\"{self.food.name} is not food\")\n",
    "            return False\n",
    "        return True\n",
    "\n",
    "    def apply_effects(self):\n",
    "        self.food.set_property(\"taste\", \"deliciously cooked\")\n",
    "        self.parser.ok(f\"You cooked the {self.food.name}\")\n"
   ]
  },
  {
   "cell_type": "markdown",
   "metadata": {
    "cell_id": "7c3ddb9bece8452f98f5e23a83995569",
    "deepnote_cell_type": "markdown"
   },
   "source": [
    "### Simple Cooking Game"
   ]
  },
  {
   "cell_type": "code",
   "execution_count": null,
   "metadata": {
    "cell_id": "9d43dbf069284cdc8030468faaeaa39f",
    "deepnote_cell_type": "code"
   },
   "outputs": [],
   "source": [
    "fishing_pond = things.Location(\n",
    "    \"Fishing Pond\",\n",
    "    \"You are at the edge of a small fishing pond.\"\n",
    ")\n",
    "\n",
    "pond = things.Item(\n",
    "    \"pond\",\n",
    "    \"a small fishing pond\",\n",
    "    \"THERE ARE FISH IN THE POND.\",\n",
    ")\n",
    "pond.set_property(\"gettable\", False)\n",
    "pond.set_property(\"has_fish\", True)\n",
    "pond.add_command_hint(\"catch fish\")\n",
    "pond.add_command_hint(\"catch fish with pole\")\n",
    "fishing_pond.add_item(pond)\n",
    "\n",
    "\n",
    "player = things.Character(\n",
    "    name=\"The player\",\n",
    "    description=\"You are a simple peasant destined for greatness.\",\n",
    "    persona=\"I am on an adventure.\",\n",
    ")\n",
    "\n",
    "fishing_pole = things.Item(\n",
    "    \"pole\",\n",
    "    \"a fishing pole\",\n",
    "    \"A SIMPLE FISHING POLE.\",\n",
    ")\n",
    "player.add_to_inventory(fishing_pole)\n"
   ]
  },
  {
   "cell_type": "markdown",
   "metadata": {
    "cell_id": "6570f631e58c496aa99c2ec850dd7b6c",
    "deepnote_cell_type": "markdown"
   },
   "source": [
    "### Using Custom Action in a Game\n",
    "\n",
    "To use custom actions, pass them as arguments to the game's constructor."
   ]
  },
  {
   "cell_type": "code",
   "execution_count": null,
   "metadata": {
    "cell_id": "fdb0c08f27d94b7787f451d68c68a687",
    "deepnote_cell_type": "code"
   },
   "outputs": [],
   "source": [
    "game = FishingGame(fishing_pond, player, custom_actions=[Cook])\n",
    "\n",
    "game.game_loop()"
   ]
  },
  {
   "cell_type": "markdown",
   "metadata": {
    "created_in_deepnote_cell": true,
    "deepnote_cell_type": "markdown"
   },
   "source": [
    "<a style='text-decoration:none;line-height:16px;display:flex;color:#5B5B62;padding:10px;justify-content:end;' href='https://deepnote.com?utm_source=created-in-deepnote-cell&projectId=b16fb3c8-85ab-4463-b29e-8658c8738191' target=\"_blank\">\n",
    "<img alt='Created in deepnote.com' style='display:inline;max-height:16px;margin:0px;margin-right:7.5px;' src='data:image/svg+xml;base64,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' > </img>\n",
    "Created in <span style='font-weight:600;margin-left:4px;'>Deepnote</span></a>"
   ]
  }
 ],
 "metadata": {
  "deepnote_notebook_id": "b2c340aef01b4099a790d2501a523144",
  "deepnote_persisted_session": {
   "createdAt": "2025-09-02T20:21:26.331Z"
  },
  "kernelspec": {
   "display_name": ".venv",
   "language": "python",
   "name": "python3"
  },
  "language_info": {
   "name": "python",
   "version": "3.9.6"
  }
 },
 "nbformat": 4,
 "nbformat_minor": 0
}
