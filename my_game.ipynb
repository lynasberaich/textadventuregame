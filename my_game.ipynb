{
 "cells": [
  {
   "cell_type": "markdown",
   "id": "b3beb10b",
   "metadata": {},
   "source": [
    "\n",
    "# Escape from the Forbidden Corridor\n",
    "\n"
   ]
  },
  {
   "cell_type": "code",
   "execution_count": 2,
   "id": "42634e10",
   "metadata": {},
   "outputs": [],
   "source": [
    "\n",
    "from text_adventure_games import games, actions, things, blocks, viz\n"
   ]
  },
  {
   "cell_type": "markdown",
   "id": "6948fcf4",
   "metadata": {},
   "source": [
    "## Locations (3)"
   ]
  },
  {
   "cell_type": "code",
   "execution_count": 3,
   "id": "6f69cf22",
   "metadata": {},
   "outputs": [],
   "source": [
    "\n",
    "forbidden_corridor = things.Location(\n",
    "    \"Forbidden Corridor\",\n",
    "    \" It's nightime at Hogwarts. A locked door leads into the unknown. Fluffy the three-headed dog naps here.\"\n",
    ")\n",
    "potion_storage = things.Location(\n",
    "    \"Potion Storage Room\",\n",
    "    \"Filled with shelves of potions in bottles.\"\n",
    ")\n",
    "trapdoor_room = things.Location(\n",
    "    \"Trapdoor Room\",\n",
    "    \"A dim, eerie room where a trapdoor waits.\"\n",
    ")\n"
   ]
  },
  {
   "cell_type": "markdown",
   "id": "0fae5d27",
   "metadata": {},
   "source": [
    "## Items (3)"
   ]
  },
  {
   "cell_type": "code",
   "execution_count": 4,
   "id": "02ef9e60",
   "metadata": {},
   "outputs": [],
   "source": [
    "\n",
    "# Key (hidden under loose floorboard in the corridor)\n",
    "key = things.Item(\"key\", \"a small brass key\", \"THIS LOOKS LIKE IT MIGHT FIT A LOCK.\")\n",
    "key.add_command_hint(\"take key\")\n",
    "forbidden_corridor.add_item(key)\n",
    "\n",
    "# Sleeping Draught\n",
    "potion = things.Item(\"potion\", \"a vial of Sleeping Draught\", \"SWIRLING LIQUID OF DEEP SLEEP.\")\n",
    "potion.set_property(\"is_potion\", True)\n",
    "potion.add_command_hint(\"use potion on fluffy\")\n",
    "potion_storage.add_item(potion)\n",
    "\n",
    "# Wand Upgrade (enables Lumos)\n",
    "wand = things.Item(\"wand\", \"an upgraded wand\", \"WILL HELP YOU CAST LUMOS.\")\n",
    "wand.set_property(\"can_cast_lumos\", True)\n",
    "wand.add_command_hint(\"cast lumos\")\n",
    "potion_storage.add_item(wand)\n"
   ]
  },
  {
   "cell_type": "markdown",
   "id": "c01e3338",
   "metadata": {},
   "source": [
    "## Character"
   ]
  },
  {
   "cell_type": "code",
   "execution_count": 5,
   "id": "9b44ac76",
   "metadata": {},
   "outputs": [],
   "source": [
    "\n",
    "fluffy = things.Character(\n",
    "    name=\"fluffy\",\n",
    "    description=\"A colossal three-headed dog, lightly snoring.\",\n",
    "    persona=\"I am sleepy but will attack intruders.\"\n",
    ")\n",
    "fluffy.set_property(\"is_asleep\", True)     \n",
    "fluffy.set_property(\"is_blocking\", True) \n",
    "forbidden_corridor.add_character(fluffy)\n"
   ]
  },
  {
   "cell_type": "markdown",
   "id": "e50c6ead",
   "metadata": {},
   "source": [
    "## Player"
   ]
  },
  {
   "cell_type": "code",
   "execution_count": 6,
   "id": "766ac6cf",
   "metadata": {},
   "outputs": [],
   "source": [
    "\n",
    "player = things.Character(\n",
    "    name=\"you\",\n",
    "    description=\"A student out after curfew.\",\n",
    "    persona=\"I must get back before Filch catches me.\"\n",
    ")\n"
   ]
  },
  {
   "cell_type": "markdown",
   "id": "a33c63b8",
   "metadata": {},
   "source": [
    "## Connections"
   ]
  },
  {
   "cell_type": "code",
   "execution_count": 7,
   "id": "39299796",
   "metadata": {},
   "outputs": [],
   "source": [
    "\n",
    "forbidden_corridor.add_connection(\"east\", potion_storage) \n",
    "forbidden_corridor.add_connection(\"north\", trapdoor_room)\n",
    "\n",
    "potion_storage.add_connection(\"west\", forbidden_corridor)\n",
    "trapdoor_room.add_connection(\"down\", forbidden_corridor) \n"
   ]
  },
  {
   "cell_type": "markdown",
   "id": "1aa919df",
   "metadata": {},
   "source": [
    "## Custom Actions"
   ]
  },
  {
   "cell_type": "code",
   "execution_count": 8,
   "id": "f14ccd3c",
   "metadata": {},
   "outputs": [],
   "source": [
    "\n",
    "class Unlock_Corridor_Door(actions.Action):\n",
    "    ACTION_NAME = \"unlock door\"\n",
    "    ACTION_DESCRIPTION = \"Unlock the corridor door using the brass key\"\n",
    "    ACTION_ALIASES = [\"open locked door\"]\n",
    "\n",
    "    def __init__(self, game, command):\n",
    "        super().__init__(game)\n",
    "        self.command = command\n",
    "        self.character = self.parser.get_character(command)\n",
    "        self.location = self.parser.get_location(self.character)\n",
    "        self.k = self.parser.match_item(command, self.character.inventory)\n",
    "\n",
    "    def check_preconditions(self) -> bool:\n",
    "        # must be in corridor\n",
    "        if self.location != forbidden_corridor:\n",
    "            self.parser.fail(\"There is no locked door here to unlock.\")\n",
    "            return False\n",
    "        # need key\n",
    "        if not self.k or self.k.name != \"key\":\n",
    "            self.parser.fail(\"You need the brass key to unlock the door.\")\n",
    "            return False\n",
    "        # already unlocked?\n",
    "        if not forbidden_corridor.get_property(\"door_locked\", True):\n",
    "            self.parser.fail(\"The door is already unlocked.\")\n",
    "            return False\n",
    "        return True\n",
    "\n",
    "    def apply_effects(self):\n",
    "        forbidden_corridor.set_property(\"door_locked\", False)\n",
    "        self.parser.ok(\"You unlock the door leading east.\")\n"
   ]
  },
  {
   "cell_type": "code",
   "execution_count": 9,
   "id": "1939ebdb",
   "metadata": {},
   "outputs": [],
   "source": [
    "\n",
    "class Use_Potion_On_Fluffy(actions.Action):\n",
    "    ACTION_NAME = \"use potion on fluffy\"\n",
    "    ACTION_DESCRIPTION = \"Pour the Sleeping Draught on food for Fluffy\"\n",
    "    ACTION_ALIASES = [\"give potion to fluffy\", \"drug fluffy\"]\n",
    "\n",
    "    def __init__(self, game, command):\n",
    "        super().__init__(game)\n",
    "        self.command = command\n",
    "        self.character = self.parser.get_character(command)\n",
    "        self.location = self.parser.get_location(self.character)\n",
    "        self.p = self.parser.match_item(command, self.character.inventory)\n",
    "\n",
    "    def check_preconditions(self) -> bool:\n",
    "        # must be in corridor with fluffy\n",
    "        if self.location != forbidden_corridor:\n",
    "            self.parser.fail(\"Fluffy isn't here.\")\n",
    "            return False\n",
    "        # must have the potion\n",
    "        if not self.p or not self.p.get_property(\"is_potion\"):\n",
    "            self.parser.fail(\"You don't have the Sleeping Draught.\")\n",
    "            return False\n",
    "        return True\n",
    "\n",
    "    def apply_effects(self):\n",
    "        # consume potion; pacify Fluffy fully\n",
    "        try:\n",
    "            self.character.inventory.remove(self.p)\n",
    "        except Exception:\n",
    "            pass\n",
    "        fluffy.set_property(\"is_asleep\", True)\n",
    "        fluffy.set_property(\"is_blocking\", False)\n",
    "        self.parser.ok(\"You quietly pour the draught over Fluffy's dish. He slumps into a deeper sleep.\")\n"
   ]
  },
  {
   "cell_type": "code",
   "execution_count": 10,
   "id": "4b3b5669",
   "metadata": {},
   "outputs": [],
   "source": [
    "\n",
    "class Cast_Lumos(actions.Action):\n",
    "    ACTION_NAME = \"cast lumos\"\n",
    "    ACTION_DESCRIPTION = \"Cast Lumos to dispel darkness\"\n",
    "    ACTION_ALIASES = [\"lumos\"]\n",
    "\n",
    "    def __init__(self, game, command):\n",
    "        super().__init__(game)\n",
    "        self.command = command\n",
    "        self.character = self.parser.get_character(command)\n",
    "        self.location = self.parser.get_location(self.character)\n",
    "        self.wand = None\n",
    "        for thing in self.character.inventory:\n",
    "            if thing.get_property(\"can_cast_lumos\"):\n",
    "                self.w = thing\n",
    "                break\n",
    "\n",
    "    def check_preconditions(self) -> bool:\n",
    "        if not self.w:\n",
    "            self.parser.fail(\"You need a wand capable of casting Lumos.\")\n",
    "            return False\n",
    "        return True\n",
    "\n",
    "    def apply_effects(self):\n",
    "        self.location.set_property(\"is_dark\", False)\n",
    "        self.parser.ok(\"Your wand tip glows. The darkness recedes.\")\n"
   ]
  },
  {
   "cell_type": "code",
   "execution_count": 11,
   "id": "6d516970",
   "metadata": {},
   "outputs": [],
   "source": [
    "\n",
    "class Open_Trapdoor(actions.Action):\n",
    "    ACTION_NAME = \"open trapdoor\"\n",
    "    ACTION_DESCRIPTION = \"Open the trapdoor and escape\"\n",
    "    ACTION_ALIASES = [\"open door\", \"climb down\", \"go down\"]\n",
    "\n",
    "    def __init__(self, game, command):\n",
    "        super().__init__(game)\n",
    "        self.command = command\n",
    "        self.character = self.parser.get_character(command)\n",
    "        self.location = self.parser.get_location(self.character)\n",
    "\n",
    "    def check_preconditions(self) -> bool:\n",
    "        if self.location != trapdoor_room:\n",
    "            self.parser.fail(\"There is no trapdoor here.\")\n",
    "            return False\n",
    "        if trapdoor_room.get_property(\"is_dark\", True):\n",
    "            self.game.set_property(\"lost\", True)\n",
    "            self.parser.fail(\"You trip and fall into Devil's Snare — GAME OVER.\")\n",
    "            return False\n",
    "        return True\n",
    "\n",
    "    def apply_effects(self):\n",
    "        self.game.set_property(\"won\", True)\n",
    "        self.parser.ok(\"You open the trapdoor and climb through.\"\n",
    "                       \"“You land safely in the passage leading back to Gryffindor Tower. You’ve escaped!”\")\n"
   ]
  },
  {
   "cell_type": "markdown",
   "id": "8616d24f",
   "metadata": {},
   "source": [
    "## Blocks (Door + Fluffy Guard)"
   ]
  },
  {
   "cell_type": "code",
   "execution_count": null,
   "id": "cadc3717",
   "metadata": {},
   "outputs": [],
   "source": [
    "\n",
    "class Door_Block(blocks.Block):\n",
    "    def __init__(self, location):\n",
    "        super().__init__(\"A locked door bars the way east.\", \"The door is locked.\")\n",
    "        self.location = location\n",
    "    def is_blocked(self) -> bool:\n",
    "        return self.location.get_property(\"door_locked\", True)\n",
    "\n",
    "class Fluffy_Block(blocks.Block):\n",
    "    def __init__(self, location, creature):\n",
    "        super().__init__(\"Fluffy blocks the way north.\", \"Fluffy wakes as you approach!\")\n",
    "        self.location = location\n",
    "        self.creature = creature\n",
    "    def is_blocked(self) -> bool:\n",
    "        if self.creature.get_property(\"is_blocking\", True):\n",
    "            self.game.set_property(\"lost\", True)\n",
    "            self.parser.fail(\"Fluffy wakes up and attacks! Game Over.\")\n",
    "            return True\n",
    "        return False\n"
   ]
  },
  {
   "cell_type": "code",
   "execution_count": 13,
   "id": "15cb162d",
   "metadata": {},
   "outputs": [],
   "source": [
    "\n",
    "forbidden_corridor.set_property(\"door_locked\", True)\n",
    "trapdoor_room.set_property(\"is_dark\", True)\n",
    "\n",
    "forbidden_corridor.add_block(\"east\", Door_Block(forbidden_corridor))\n",
    "forbidden_corridor.add_block(\"north\", Fluffy_Block(forbidden_corridor, fluffy))\n"
   ]
  },
  {
   "cell_type": "markdown",
   "id": "957b8eae",
   "metadata": {},
   "source": [
    "## Game Class & Loop"
   ]
  },
  {
   "cell_type": "code",
   "execution_count": 17,
   "id": "3105196e",
   "metadata": {},
   "outputs": [],
   "source": [
    "\n",
    "class HogwartsMini(games.Game):\n",
    "    def __init__(self, start_at, player, characters=None, custom_actions=None):\n",
    "        super().__init__(start_at, player, characters=characters, custom_actions=custom_actions)\n",
    "\n",
    "    def is_won(self) -> bool:\n",
    "        if self.get_property(\"won\"):\n",
    "            self.parser.ok(\"You win!\", self)\n",
    "            return True\n",
    "        return False\n",
    "\n",
    "    def is_lost(self) -> bool:\n",
    "        return bool(self.get_property(\"lost\"))\n",
    "\n",
    "# forbidden_corridor.add_hint(\"You notice a loose floorboard—perhaps something is hidden beneath...\")\n",
    "# potion_storage.add_hint(\"Among the vials, a label reads 'Sleeping Draught'. Another box holds a wand upgrade.\")\n",
    "# trapdoor_room.add_hint(\"It's too dark to make out details here. Maybe some light would help.\")\n"
   ]
  },
  {
   "cell_type": "markdown",
   "id": "1aedc6c9",
   "metadata": {},
   "source": [
    "## Play"
   ]
  },
  {
   "cell_type": "code",
   "execution_count": 20,
   "id": "537f618d",
   "metadata": {},
   "outputs": [
    {
     "ename": "TypeError",
     "evalue": "get_property() takes 2 positional arguments but 3 were given",
     "output_type": "error",
     "traceback": [
      "\u001b[0;31m---------------------------------------------------------------------------\u001b[0m",
      "\u001b[0;31mTypeError\u001b[0m                                 Traceback (most recent call last)",
      "Cell \u001b[0;32mIn[20], line 6\u001b[0m\n\u001b[1;32m      2\u001b[0m custom_actions \u001b[38;5;241m=\u001b[39m [Unlock_Corridor_Door, Use_Potion_On_Fluffy, Cast_Lumos, Open_Trapdoor]\n\u001b[1;32m      4\u001b[0m game \u001b[38;5;241m=\u001b[39m HogwartsMini(forbidden_corridor, player, characters\u001b[38;5;241m=\u001b[39mcharacters, custom_actions\u001b[38;5;241m=\u001b[39mcustom_actions)\n\u001b[0;32m----> 6\u001b[0m graph \u001b[38;5;241m=\u001b[39m \u001b[43mviz\u001b[49m\u001b[38;5;241;43m.\u001b[39;49m\u001b[43mVisualizer\u001b[49m\u001b[43m(\u001b[49m\u001b[43mgame\u001b[49m\u001b[43m)\u001b[49m\u001b[38;5;241;43m.\u001b[39;49m\u001b[43mvisualize\u001b[49m\u001b[43m(\u001b[49m\u001b[43m)\u001b[49m\n\u001b[1;32m      7\u001b[0m display(graph)\n\u001b[1;32m      9\u001b[0m game\u001b[38;5;241m.\u001b[39mgame_loop()\n",
      "File \u001b[0;32m~/school repos/cmsc 491/textadventuregame/text_adventure_games/viz.py:53\u001b[0m, in \u001b[0;36mVisualizer.visualize\u001b[0;34m(self)\u001b[0m\n\u001b[1;32m     51\u001b[0m \u001b[38;5;28;01mfor\u001b[39;00m direction \u001b[38;5;129;01min\u001b[39;00m connections\u001b[38;5;241m.\u001b[39mkeys():\n\u001b[1;32m     52\u001b[0m     next_location \u001b[38;5;241m=\u001b[39m connections[direction]\n\u001b[0;32m---> 53\u001b[0m     \u001b[38;5;28;01mif\u001b[39;00m \u001b[38;5;129;01mnot\u001b[39;00m \u001b[43mcurrent_location\u001b[49m\u001b[38;5;241;43m.\u001b[39;49m\u001b[43mis_blocked\u001b[49m\u001b[43m(\u001b[49m\u001b[43mdirection\u001b[49m\u001b[43m)\u001b[49m:\n\u001b[1;32m     54\u001b[0m         \u001b[38;5;66;03m# Create an edge between the current location and its successor\u001b[39;00m\n\u001b[1;32m     55\u001b[0m         graph\u001b[38;5;241m.\u001b[39medge(name, next_location\u001b[38;5;241m.\u001b[39mname, label\u001b[38;5;241m=\u001b[39mdirection\u001b[38;5;241m.\u001b[39mcapitalize())\n\u001b[1;32m     56\u001b[0m     \u001b[38;5;28;01melse\u001b[39;00m:\n\u001b[1;32m     57\u001b[0m         \u001b[38;5;66;03m# Create a dotted edge for connected locations that are blocked\u001b[39;00m\n",
      "File \u001b[0;32m~/school repos/cmsc 491/textadventuregame/text_adventure_games/things/locations.py:216\u001b[0m, in \u001b[0;36mLocation.is_blocked\u001b[0;34m(self, direction)\u001b[0m\n\u001b[1;32m    214\u001b[0m     \u001b[38;5;28;01mreturn\u001b[39;00m \u001b[38;5;28;01mFalse\u001b[39;00m\n\u001b[1;32m    215\u001b[0m block \u001b[38;5;241m=\u001b[39m \u001b[38;5;28mself\u001b[39m\u001b[38;5;241m.\u001b[39mblocks[direction]\n\u001b[0;32m--> 216\u001b[0m \u001b[38;5;28;01mreturn\u001b[39;00m \u001b[43mblock\u001b[49m\u001b[38;5;241;43m.\u001b[39;49m\u001b[43mis_blocked\u001b[49m\u001b[43m(\u001b[49m\u001b[43m)\u001b[49m\n",
      "Cell \u001b[0;32mIn[12], line 6\u001b[0m, in \u001b[0;36mDoor_Block.is_blocked\u001b[0;34m(self)\u001b[0m\n\u001b[1;32m      5\u001b[0m \u001b[38;5;28;01mdef\u001b[39;00m\u001b[38;5;250m \u001b[39m\u001b[38;5;21mis_blocked\u001b[39m(\u001b[38;5;28mself\u001b[39m) \u001b[38;5;241m-\u001b[39m\u001b[38;5;241m>\u001b[39m \u001b[38;5;28mbool\u001b[39m:\n\u001b[0;32m----> 6\u001b[0m     \u001b[38;5;28;01mreturn\u001b[39;00m \u001b[38;5;28;43mself\u001b[39;49m\u001b[38;5;241;43m.\u001b[39;49m\u001b[43mlocation\u001b[49m\u001b[38;5;241;43m.\u001b[39;49m\u001b[43mget_property\u001b[49m\u001b[43m(\u001b[49m\u001b[38;5;124;43m\"\u001b[39;49m\u001b[38;5;124;43mdoor_locked\u001b[39;49m\u001b[38;5;124;43m\"\u001b[39;49m\u001b[43m,\u001b[49m\u001b[43m \u001b[49m\u001b[38;5;28;43;01mTrue\u001b[39;49;00m\u001b[43m)\u001b[49m\n",
      "\u001b[0;31mTypeError\u001b[0m: get_property() takes 2 positional arguments but 3 were given"
     ]
    }
   ],
   "source": [
    "characters = [fluffy]\n",
    "custom_actions = [Unlock_Corridor_Door, Use_Potion_On_Fluffy, Cast_Lumos, Open_Trapdoor]\n",
    "\n",
    "game = HogwartsMini(forbidden_corridor, player, characters=characters, custom_actions=custom_actions)\n",
    "\n",
    "graph = viz.Visualizer(game).visualize()\n",
    "display(graph)\n",
    "\n",
    "game.game_loop()\n"
   ]
  }
 ],
 "metadata": {
  "kernelspec": {
   "display_name": ".venv",
   "language": "python",
   "name": "python3"
  },
  "language_info": {
   "codemirror_mode": {
    "name": "ipython",
    "version": 3
   },
   "file_extension": ".py",
   "mimetype": "text/x-python",
   "name": "python",
   "nbconvert_exporter": "python",
   "pygments_lexer": "ipython3",
   "version": "3.9.6"
  }
 },
 "nbformat": 4,
 "nbformat_minor": 5
}
